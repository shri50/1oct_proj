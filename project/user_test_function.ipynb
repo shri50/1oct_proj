{
 "cells": [
  {
   "cell_type": "code",
   "execution_count": 10,
   "id": "8a8987e1",
   "metadata": {},
   "outputs": [],
   "source": [
    "import pandas as pd \n",
    "import numpy as np \n",
    "import pickle \n",
    "import json"
   ]
  },
  {
   "cell_type": "code",
   "execution_count": null,
   "id": "dd9d9554",
   "metadata": {},
   "outputs": [],
   "source": [
    "symboling = int(input(f\"symboling:\"))\n",
    "normalized_losses =\n",
    "make = \n",
    "fuel_type = \n",
    "aspiration = \n",
    "num_of_doors = \n",
    "body_style = \n",
    "drive_wheels = \n",
    "engine_location = \n",
    "wheel_base = \n",
    "length = \n",
    "width = \n",
    "height = \n",
    "curb_weight = \n",
    "engine_type = \n",
    "num_of_cylinders = \n",
    "engine_size = \n",
    "fuel_system = \n",
    "bore = \n",
    "stroke = \n",
    "compression_ratio = \n",
    "horsepower = \n",
    "peak_rpm = \n",
    "city_mpg = \n",
    "highway_mpg = \n",
    "\n",
    "data = [[symboling, normalized_losses, make, fuel_type, aspiration,num_of_doors, body_style, drive_wheels, engine_location,wheel_base, length, width, height, curb_weight, engine_type,num_of_cylinders, engine_size, fuel_system, bore, stroke,compression_ratio, horsepower, peak_rpm, city_mpg,highway_mpg]]\n",
    "model.predict(data)"
   ]
  },
  {
   "cell_type": "code",
   "execution_count": 2,
   "id": "7aac2289",
   "metadata": {},
   "outputs": [
    {
     "data": {
      "text/html": [
       "<div>\n",
       "<style scoped>\n",
       "    .dataframe tbody tr th:only-of-type {\n",
       "        vertical-align: middle;\n",
       "    }\n",
       "\n",
       "    .dataframe tbody tr th {\n",
       "        vertical-align: top;\n",
       "    }\n",
       "\n",
       "    .dataframe thead th {\n",
       "        text-align: right;\n",
       "    }\n",
       "</style>\n",
       "<table border=\"1\" class=\"dataframe\">\n",
       "  <thead>\n",
       "    <tr style=\"text-align: right;\">\n",
       "      <th></th>\n",
       "      <th>symboling</th>\n",
       "      <th>normalized-losses</th>\n",
       "      <th>make</th>\n",
       "      <th>fuel-type</th>\n",
       "      <th>aspiration</th>\n",
       "      <th>num-of-doors</th>\n",
       "      <th>body-style</th>\n",
       "      <th>drive-wheels</th>\n",
       "      <th>engine-location</th>\n",
       "      <th>wheel-base</th>\n",
       "      <th>...</th>\n",
       "      <th>engine-size</th>\n",
       "      <th>fuel-system</th>\n",
       "      <th>bore</th>\n",
       "      <th>stroke</th>\n",
       "      <th>compression-ratio</th>\n",
       "      <th>horsepower</th>\n",
       "      <th>peak-rpm</th>\n",
       "      <th>city-mpg</th>\n",
       "      <th>highway-mpg</th>\n",
       "      <th>price</th>\n",
       "    </tr>\n",
       "  </thead>\n",
       "  <tbody>\n",
       "    <tr>\n",
       "      <th>204</th>\n",
       "      <td>-1</td>\n",
       "      <td>95</td>\n",
       "      <td>volvo</td>\n",
       "      <td>gas</td>\n",
       "      <td>turbo</td>\n",
       "      <td>four</td>\n",
       "      <td>sedan</td>\n",
       "      <td>rwd</td>\n",
       "      <td>front</td>\n",
       "      <td>109.1</td>\n",
       "      <td>...</td>\n",
       "      <td>141</td>\n",
       "      <td>mpfi</td>\n",
       "      <td>3.78</td>\n",
       "      <td>3.15</td>\n",
       "      <td>9.5</td>\n",
       "      <td>114</td>\n",
       "      <td>5400</td>\n",
       "      <td>19</td>\n",
       "      <td>25</td>\n",
       "      <td>22625</td>\n",
       "    </tr>\n",
       "  </tbody>\n",
       "</table>\n",
       "<p>1 rows × 26 columns</p>\n",
       "</div>"
      ],
      "text/plain": [
       "     symboling normalized-losses   make fuel-type aspiration num-of-doors  \\\n",
       "204         -1                95  volvo       gas      turbo         four   \n",
       "\n",
       "    body-style drive-wheels engine-location  wheel-base  ...  engine-size  \\\n",
       "204      sedan          rwd           front       109.1  ...          141   \n",
       "\n",
       "     fuel-system  bore  stroke compression-ratio horsepower  peak-rpm  \\\n",
       "204         mpfi  3.78    3.15               9.5        114      5400   \n",
       "\n",
       "    city-mpg highway-mpg  price  \n",
       "204       19          25  22625  \n",
       "\n",
       "[1 rows x 26 columns]"
      ]
     },
     "execution_count": 2,
     "metadata": {},
     "output_type": "execute_result"
    }
   ],
   "source": [
    "df = pd.read_csv('autos_dataset.csv')\n",
    "df.tail(1)"
   ]
  },
  {
   "cell_type": "code",
   "execution_count": 4,
   "id": "6821fad2",
   "metadata": {},
   "outputs": [
    {
     "data": {
      "text/plain": [
       "[[-1,\n",
       "  '95',\n",
       "  'volvo',\n",
       "  'gas',\n",
       "  'turbo',\n",
       "  'four',\n",
       "  'sedan',\n",
       "  'rwd',\n",
       "  'front',\n",
       "  109.1,\n",
       "  188.8,\n",
       "  68.9,\n",
       "  55.5,\n",
       "  3062,\n",
       "  'ohc',\n",
       "  'four',\n",
       "  141,\n",
       "  'mpfi',\n",
       "  '3.78',\n",
       "  '3.15',\n",
       "  9.5,\n",
       "  '114',\n",
       "  '5400',\n",
       "  19,\n",
       "  25,\n",
       "  '22625']]"
      ]
     },
     "execution_count": 4,
     "metadata": {},
     "output_type": "execute_result"
    }
   ],
   "source": [
    "data = df.tail(1).values.tolist()\n",
    "data"
   ]
  },
  {
   "cell_type": "code",
   "execution_count": 40,
   "id": "ed49a49f",
   "metadata": {},
   "outputs": [
    {
     "name": "stdout",
     "output_type": "stream",
     "text": [
      "user_input=array([-1.000e+00,  9.500e+01,  1.000e+00,  1.000e+00,  4.000e+00,\n",
      "        0.000e+00,  1.090e+02,  1.880e+02,  6.800e+01,  5.500e+01,\n",
      "        3.062e+03,  4.000e+00,  1.410e+02,  3.780e+00,  3.150e+00,\n",
      "        9.500e+00,  1.150e+02,  5.900e+03,  1.900e+01,  2.400e+01,\n",
      "        0.000e+00,  0.000e+00,  0.000e+00,  0.000e+00,  0.000e+00,\n",
      "        0.000e+00,  0.000e+00,  0.000e+00,  0.000e+00,  0.000e+00,\n",
      "        0.000e+00,  0.000e+00,  0.000e+00,  0.000e+00,  0.000e+00,\n",
      "        0.000e+00,  0.000e+00,  0.000e+00,  0.000e+00,  0.000e+00,\n",
      "        0.000e+00,  1.000e+00,  0.000e+00,  0.000e+00,  0.000e+00,\n",
      "        1.000e+00,  0.000e+00,  0.000e+00,  0.000e+00,  1.000e+00,\n",
      "        0.000e+00,  0.000e+00,  0.000e+00,  1.000e+00,  0.000e+00,\n",
      "        0.000e+00,  0.000e+00,  0.000e+00,  0.000e+00,  0.000e+00,\n",
      "        0.000e+00,  0.000e+00,  1.000e+00,  0.000e+00,  0.000e+00])\n",
      "65\n",
      "Predicted Price = [22149.67821698]\n",
      "Actual Price = 22625\n"
     ]
    },
    {
     "name": "stderr",
     "output_type": "stream",
     "text": [
      "C:\\Users\\Shridhar\\AppData\\Local\\Programs\\Python\\Python310\\lib\\site-packages\\sklearn\\base.py:420: UserWarning: X does not have valid feature names, but LinearRegression was fitted with feature names\n",
      "  warnings.warn(\n"
     ]
    }
   ],
   "source": [
    "with open('linear_model.pkl','rb') as model_file: \n",
    "    model = pickle.load(model_file)\n",
    "    \n",
    "with open('columns_names.json','r') as col_file: \n",
    "    column_names = json.load(col_file)\n",
    "    \n",
    "with open('encoded_data.json','r') as encode_file:\n",
    "    encoded_data = json.load(encode_file)\n",
    "\n",
    "user_input = np.zeros(len(column_names['Column Names']))\n",
    "\n",
    "array = np.array(column_names['Column Names'])\n",
    "\n",
    "symboling = -1  # API\n",
    "normalized_losses = 95\n",
    "make = 'volvo'\n",
    "fuel_type = 'gas'\n",
    "aspiration = 'turbo'\n",
    "num_of_doors = 'four'\n",
    "body_style = 'sedan'\n",
    "drive_wheels = 'rwd'\n",
    "engine_location = 'front'\n",
    "wheel_base = 109\n",
    "length = 188\n",
    "width = 68\n",
    "height = 55\n",
    "curb_weight = 3062 \n",
    "engine_type = 'ohc'\n",
    "num_of_cylinders = 'four'\n",
    "engine_size =  141\n",
    "fuel_system = 'mpfi'\n",
    "bore = 3.78\n",
    "stroke = 3.15\n",
    "compression_ratio = 9.5 \n",
    "horsepower =  115\n",
    "peak_rpm = 5900\n",
    "city_mpg = 19\n",
    "highway_mpg = 24 \n",
    "\n",
    "user_input[0] = symboling\n",
    "user_input[1] = normalized_losses\n",
    "\n",
    "make_string = 'make_'+make\n",
    "make_index = np.where(array == make_string)[0][0]\n",
    "user_input[make_index] = 1 \n",
    "\n",
    "user_input[2] = encoded_data['fuel_type'][fuel_type]\n",
    "user_input[3] = encoded_data['aspiration'][aspiration]\n",
    "user_input[4] = encoded_data['num_of_doors'][num_of_doors]\n",
    "\n",
    "body_style_string = 'body-style_'+body_style\n",
    "bs_index = np.where(array == body_style_string)[0][0]\n",
    "user_input[bs_index] = 1\n",
    "\n",
    "drive_wheels_string = \"drive-wheels_\"+drive_wheels\n",
    "ds_index = np.where(array ==drive_wheels_string)[0][0]\n",
    "user_input[ds_index] = 1\n",
    "\n",
    "user_input[5] = encoded_data['engine_location'][engine_location]\n",
    "user_input[6] = wheel_base\n",
    "user_input[7] = length \n",
    "user_input[8] = width \n",
    "user_input[9] = height \n",
    "user_input[10] = curb_weight\n",
    "\n",
    "engine_type_string = \"engine-type_\"+engine_type\n",
    "et_index = np.where(array ==engine_type_string )[0][0]\n",
    "user_input[et_index] = 1\n",
    "\n",
    "user_input[11] = encoded_data['num_of_cylinders'][num_of_cylinders]\n",
    "user_input[12] = engine_size\n",
    "\n",
    "fuel_system_string = \"fuel-system_\"+fuel_system\n",
    "fs_index = np.where(array == fuel_system_string)[0][0]\n",
    "user_input[fs_index] = 1\n",
    "\n",
    "user_input[13] = bore\n",
    "user_input[14] = stroke \n",
    "user_input[15] = compression_ratio \n",
    "user_input[16] = horsepower \n",
    "user_input[17] = peak_rpm \n",
    "user_input[18] = city_mpg \n",
    "user_input[19] = highway_mpg \n",
    "\n",
    "print(f\"{user_input=}\")\n",
    "print(len(user_input))\n",
    "\n",
    "price = model.predict([user_input])\n",
    "print(f\"Predicted Price = {price}\")\n",
    "print(f\"Actual Price = 22625\")"
   ]
  },
  {
   "cell_type": "code",
   "execution_count": null,
   "id": "47008bd4",
   "metadata": {},
   "outputs": [],
   "source": [
    "25 - 65 "
   ]
  },
  {
   "cell_type": "code",
   "execution_count": 11,
   "id": "8533bcde",
   "metadata": {},
   "outputs": [],
   "source": [
    "with open('columns_names.json','r') as file: \n",
    "    column_names = json.load(file)"
   ]
  },
  {
   "cell_type": "code",
   "execution_count": 15,
   "id": "d5200527",
   "metadata": {},
   "outputs": [],
   "source": [
    "# column_names"
   ]
  },
  {
   "cell_type": "code",
   "execution_count": 16,
   "id": "ba23a9fe",
   "metadata": {},
   "outputs": [
    {
     "data": {
      "text/plain": [
       "65"
      ]
     },
     "execution_count": 16,
     "metadata": {},
     "output_type": "execute_result"
    }
   ],
   "source": [
    "len(column_names['Column Names'])"
   ]
  },
  {
   "cell_type": "code",
   "execution_count": 17,
   "id": "dfc7cb80",
   "metadata": {},
   "outputs": [
    {
     "data": {
      "text/plain": [
       "array([0., 0., 0., 0., 0., 0., 0., 0., 0., 0., 0., 0., 0., 0., 0., 0., 0.,\n",
       "       0., 0., 0., 0., 0., 0., 0., 0., 0., 0., 0., 0., 0., 0., 0., 0., 0.,\n",
       "       0., 0., 0., 0., 0., 0., 0., 0., 0., 0., 0., 0., 0., 0., 0., 0., 0.,\n",
       "       0., 0., 0., 0., 0., 0., 0., 0., 0., 0., 0., 0., 0., 0.])"
      ]
     },
     "execution_count": 17,
     "metadata": {},
     "output_type": "execute_result"
    }
   ],
   "source": [
    "user_input = np.zeros(len(column_names['Column Names']))\n",
    "user_input"
   ]
  },
  {
   "cell_type": "code",
   "execution_count": null,
   "id": "130da202",
   "metadata": {},
   "outputs": [],
   "source": []
  }
 ],
 "metadata": {
  "kernelspec": {
   "display_name": "Python 3 (ipykernel)",
   "language": "python",
   "name": "python3"
  },
  "language_info": {
   "codemirror_mode": {
    "name": "ipython",
    "version": 3
   },
   "file_extension": ".py",
   "mimetype": "text/x-python",
   "name": "python",
   "nbconvert_exporter": "python",
   "pygments_lexer": "ipython3",
   "version": "3.10.9"
  }
 },
 "nbformat": 4,
 "nbformat_minor": 5
}
