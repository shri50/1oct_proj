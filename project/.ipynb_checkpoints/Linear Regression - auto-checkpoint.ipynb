{
 "cells": [
  {
   "cell_type": "markdown",
   "id": "13831f8d",
   "metadata": {},
   "source": [
    "## Import all required libraries "
   ]
  },
  {
   "cell_type": "code",
   "execution_count": 29,
   "id": "a98438b1",
   "metadata": {},
   "outputs": [],
   "source": [
    "import pandas as pd \n",
    "import numpy as np \n",
    "import matplotlib.pyplot as plt \n",
    "import seaborn as sns \n",
    "\n",
    "from sklearn.model_selection import train_test_split,GridSearchCV, RandomizedSearchCV\n",
    "from sklearn.linear_model import LinearRegression, Lasso, Ridge\n",
    "from sklearn.metrics import mean_squared_error, mean_absolute_error, r2_score\n",
    "\n",
    "import pickle\n",
    "import json\n"
   ]
  },
  {
   "cell_type": "markdown",
   "id": "03914e5d",
   "metadata": {},
   "source": [
    "# Step 1: Problem Statement "
   ]
  },
  {
   "cell_type": "raw",
   "id": "0edbbd49",
   "metadata": {},
   "source": [
    "To Predict the car price using below mentioned features \n",
    "'symboling', 'normalized-losses', 'make', 'fuel-type', 'aspiration',\n",
    "'num-of-doors', 'body-style', 'drive-wheels', 'engine-location',\n",
    "'wheel-base', 'length', 'width', 'height', 'curb-weight', 'engine-type',\n",
    "'num-of-cylinders', 'engine-size', 'fuel-system', 'bore', 'stroke',\n",
    "'compression-ratio', 'horsepower', 'peak-rpm', 'city-mpg',\n",
    "'highway-mpg'"
   ]
  },
  {
   "cell_type": "markdown",
   "id": "3058b2ed",
   "metadata": {},
   "source": [
    "# Step 2: Data Gathering "
   ]
  },
  {
   "cell_type": "code",
   "execution_count": 30,
   "id": "a9ade5ee",
   "metadata": {},
   "outputs": [
    {
     "data": {
      "text/html": [
       "<div>\n",
       "<style scoped>\n",
       "    .dataframe tbody tr th:only-of-type {\n",
       "        vertical-align: middle;\n",
       "    }\n",
       "\n",
       "    .dataframe tbody tr th {\n",
       "        vertical-align: top;\n",
       "    }\n",
       "\n",
       "    .dataframe thead th {\n",
       "        text-align: right;\n",
       "    }\n",
       "</style>\n",
       "<table border=\"1\" class=\"dataframe\">\n",
       "  <thead>\n",
       "    <tr style=\"text-align: right;\">\n",
       "      <th></th>\n",
       "      <th>0</th>\n",
       "      <th>1</th>\n",
       "      <th>2</th>\n",
       "      <th>3</th>\n",
       "      <th>4</th>\n",
       "    </tr>\n",
       "  </thead>\n",
       "  <tbody>\n",
       "    <tr>\n",
       "      <th>symboling</th>\n",
       "      <td>3</td>\n",
       "      <td>3</td>\n",
       "      <td>1</td>\n",
       "      <td>2</td>\n",
       "      <td>2</td>\n",
       "    </tr>\n",
       "    <tr>\n",
       "      <th>normalized-losses</th>\n",
       "      <td>?</td>\n",
       "      <td>?</td>\n",
       "      <td>?</td>\n",
       "      <td>164</td>\n",
       "      <td>164</td>\n",
       "    </tr>\n",
       "    <tr>\n",
       "      <th>make</th>\n",
       "      <td>alfa-romero</td>\n",
       "      <td>alfa-romero</td>\n",
       "      <td>alfa-romero</td>\n",
       "      <td>audi</td>\n",
       "      <td>audi</td>\n",
       "    </tr>\n",
       "    <tr>\n",
       "      <th>fuel-type</th>\n",
       "      <td>gas</td>\n",
       "      <td>gas</td>\n",
       "      <td>gas</td>\n",
       "      <td>gas</td>\n",
       "      <td>gas</td>\n",
       "    </tr>\n",
       "    <tr>\n",
       "      <th>aspiration</th>\n",
       "      <td>std</td>\n",
       "      <td>std</td>\n",
       "      <td>std</td>\n",
       "      <td>std</td>\n",
       "      <td>std</td>\n",
       "    </tr>\n",
       "    <tr>\n",
       "      <th>num-of-doors</th>\n",
       "      <td>two</td>\n",
       "      <td>two</td>\n",
       "      <td>two</td>\n",
       "      <td>four</td>\n",
       "      <td>four</td>\n",
       "    </tr>\n",
       "    <tr>\n",
       "      <th>body-style</th>\n",
       "      <td>convertible</td>\n",
       "      <td>convertible</td>\n",
       "      <td>hatchback</td>\n",
       "      <td>sedan</td>\n",
       "      <td>sedan</td>\n",
       "    </tr>\n",
       "    <tr>\n",
       "      <th>drive-wheels</th>\n",
       "      <td>rwd</td>\n",
       "      <td>rwd</td>\n",
       "      <td>rwd</td>\n",
       "      <td>fwd</td>\n",
       "      <td>4wd</td>\n",
       "    </tr>\n",
       "    <tr>\n",
       "      <th>engine-location</th>\n",
       "      <td>front</td>\n",
       "      <td>front</td>\n",
       "      <td>front</td>\n",
       "      <td>front</td>\n",
       "      <td>front</td>\n",
       "    </tr>\n",
       "    <tr>\n",
       "      <th>wheel-base</th>\n",
       "      <td>88.6</td>\n",
       "      <td>88.6</td>\n",
       "      <td>94.5</td>\n",
       "      <td>99.8</td>\n",
       "      <td>99.4</td>\n",
       "    </tr>\n",
       "    <tr>\n",
       "      <th>length</th>\n",
       "      <td>168.8</td>\n",
       "      <td>168.8</td>\n",
       "      <td>171.2</td>\n",
       "      <td>176.6</td>\n",
       "      <td>176.6</td>\n",
       "    </tr>\n",
       "    <tr>\n",
       "      <th>width</th>\n",
       "      <td>64.1</td>\n",
       "      <td>64.1</td>\n",
       "      <td>65.5</td>\n",
       "      <td>66.2</td>\n",
       "      <td>66.4</td>\n",
       "    </tr>\n",
       "    <tr>\n",
       "      <th>height</th>\n",
       "      <td>48.8</td>\n",
       "      <td>48.8</td>\n",
       "      <td>52.4</td>\n",
       "      <td>54.3</td>\n",
       "      <td>54.3</td>\n",
       "    </tr>\n",
       "    <tr>\n",
       "      <th>curb-weight</th>\n",
       "      <td>2548</td>\n",
       "      <td>2548</td>\n",
       "      <td>2823</td>\n",
       "      <td>2337</td>\n",
       "      <td>2824</td>\n",
       "    </tr>\n",
       "    <tr>\n",
       "      <th>engine-type</th>\n",
       "      <td>dohc</td>\n",
       "      <td>dohc</td>\n",
       "      <td>ohcv</td>\n",
       "      <td>ohc</td>\n",
       "      <td>ohc</td>\n",
       "    </tr>\n",
       "    <tr>\n",
       "      <th>num-of-cylinders</th>\n",
       "      <td>four</td>\n",
       "      <td>four</td>\n",
       "      <td>six</td>\n",
       "      <td>four</td>\n",
       "      <td>five</td>\n",
       "    </tr>\n",
       "    <tr>\n",
       "      <th>engine-size</th>\n",
       "      <td>130</td>\n",
       "      <td>130</td>\n",
       "      <td>152</td>\n",
       "      <td>109</td>\n",
       "      <td>136</td>\n",
       "    </tr>\n",
       "    <tr>\n",
       "      <th>fuel-system</th>\n",
       "      <td>mpfi</td>\n",
       "      <td>mpfi</td>\n",
       "      <td>mpfi</td>\n",
       "      <td>mpfi</td>\n",
       "      <td>mpfi</td>\n",
       "    </tr>\n",
       "    <tr>\n",
       "      <th>bore</th>\n",
       "      <td>3.47</td>\n",
       "      <td>3.47</td>\n",
       "      <td>2.68</td>\n",
       "      <td>3.19</td>\n",
       "      <td>3.19</td>\n",
       "    </tr>\n",
       "    <tr>\n",
       "      <th>stroke</th>\n",
       "      <td>2.68</td>\n",
       "      <td>2.68</td>\n",
       "      <td>3.47</td>\n",
       "      <td>3.4</td>\n",
       "      <td>3.4</td>\n",
       "    </tr>\n",
       "    <tr>\n",
       "      <th>compression-ratio</th>\n",
       "      <td>9.0</td>\n",
       "      <td>9.0</td>\n",
       "      <td>9.0</td>\n",
       "      <td>10.0</td>\n",
       "      <td>8.0</td>\n",
       "    </tr>\n",
       "    <tr>\n",
       "      <th>horsepower</th>\n",
       "      <td>111</td>\n",
       "      <td>111</td>\n",
       "      <td>154</td>\n",
       "      <td>102</td>\n",
       "      <td>115</td>\n",
       "    </tr>\n",
       "    <tr>\n",
       "      <th>peak-rpm</th>\n",
       "      <td>5000</td>\n",
       "      <td>5000</td>\n",
       "      <td>5000</td>\n",
       "      <td>5500</td>\n",
       "      <td>5500</td>\n",
       "    </tr>\n",
       "    <tr>\n",
       "      <th>city-mpg</th>\n",
       "      <td>21</td>\n",
       "      <td>21</td>\n",
       "      <td>19</td>\n",
       "      <td>24</td>\n",
       "      <td>18</td>\n",
       "    </tr>\n",
       "    <tr>\n",
       "      <th>highway-mpg</th>\n",
       "      <td>27</td>\n",
       "      <td>27</td>\n",
       "      <td>26</td>\n",
       "      <td>30</td>\n",
       "      <td>22</td>\n",
       "    </tr>\n",
       "    <tr>\n",
       "      <th>price</th>\n",
       "      <td>13495</td>\n",
       "      <td>16500</td>\n",
       "      <td>16500</td>\n",
       "      <td>13950</td>\n",
       "      <td>17450</td>\n",
       "    </tr>\n",
       "  </tbody>\n",
       "</table>\n",
       "</div>"
      ],
      "text/plain": [
       "                             0            1            2      3      4\n",
       "symboling                    3            3            1      2      2\n",
       "normalized-losses            ?            ?            ?    164    164\n",
       "make               alfa-romero  alfa-romero  alfa-romero   audi   audi\n",
       "fuel-type                  gas          gas          gas    gas    gas\n",
       "aspiration                 std          std          std    std    std\n",
       "num-of-doors               two          two          two   four   four\n",
       "body-style         convertible  convertible    hatchback  sedan  sedan\n",
       "drive-wheels               rwd          rwd          rwd    fwd    4wd\n",
       "engine-location          front        front        front  front  front\n",
       "wheel-base                88.6         88.6         94.5   99.8   99.4\n",
       "length                   168.8        168.8        171.2  176.6  176.6\n",
       "width                     64.1         64.1         65.5   66.2   66.4\n",
       "height                    48.8         48.8         52.4   54.3   54.3\n",
       "curb-weight               2548         2548         2823   2337   2824\n",
       "engine-type               dohc         dohc         ohcv    ohc    ohc\n",
       "num-of-cylinders          four         four          six   four   five\n",
       "engine-size                130          130          152    109    136\n",
       "fuel-system               mpfi         mpfi         mpfi   mpfi   mpfi\n",
       "bore                      3.47         3.47         2.68   3.19   3.19\n",
       "stroke                    2.68         2.68         3.47    3.4    3.4\n",
       "compression-ratio          9.0          9.0          9.0   10.0    8.0\n",
       "horsepower                 111          111          154    102    115\n",
       "peak-rpm                  5000         5000         5000   5500   5500\n",
       "city-mpg                    21           21           19     24     18\n",
       "highway-mpg                 27           27           26     30     22\n",
       "price                    13495        16500        16500  13950  17450"
      ]
     },
     "execution_count": 30,
     "metadata": {},
     "output_type": "execute_result"
    }
   ],
   "source": [
    "df = pd.read_csv('autos_dataset.csv')\n",
    "df.head().T"
   ]
  },
  {
   "cell_type": "markdown",
   "id": "8d8be086",
   "metadata": {},
   "source": [
    "# Step 3: EDA [Exploratory Data Analysis]"
   ]
  },
  {
   "cell_type": "code",
   "execution_count": 31,
   "id": "baf3e141",
   "metadata": {},
   "outputs": [
    {
     "name": "stdout",
     "output_type": "stream",
     "text": [
      "<class 'pandas.core.frame.DataFrame'>\n",
      "RangeIndex: 205 entries, 0 to 204\n",
      "Data columns (total 26 columns):\n",
      " #   Column             Non-Null Count  Dtype  \n",
      "---  ------             --------------  -----  \n",
      " 0   symboling          205 non-null    int64  \n",
      " 1   normalized-losses  205 non-null    object \n",
      " 2   make               205 non-null    object \n",
      " 3   fuel-type          205 non-null    object \n",
      " 4   aspiration         205 non-null    object \n",
      " 5   num-of-doors       205 non-null    object \n",
      " 6   body-style         205 non-null    object \n",
      " 7   drive-wheels       205 non-null    object \n",
      " 8   engine-location    205 non-null    object \n",
      " 9   wheel-base         205 non-null    float64\n",
      " 10  length             205 non-null    float64\n",
      " 11  width              205 non-null    float64\n",
      " 12  height             205 non-null    float64\n",
      " 13  curb-weight        205 non-null    int64  \n",
      " 14  engine-type        205 non-null    object \n",
      " 15  num-of-cylinders   205 non-null    object \n",
      " 16  engine-size        205 non-null    int64  \n",
      " 17  fuel-system        205 non-null    object \n",
      " 18  bore               205 non-null    object \n",
      " 19  stroke             205 non-null    object \n",
      " 20  compression-ratio  205 non-null    float64\n",
      " 21  horsepower         205 non-null    object \n",
      " 22  peak-rpm           205 non-null    object \n",
      " 23  city-mpg           205 non-null    int64  \n",
      " 24  highway-mpg        205 non-null    int64  \n",
      " 25  price              205 non-null    object \n",
      "dtypes: float64(5), int64(5), object(16)\n",
      "memory usage: 41.8+ KB\n"
     ]
    }
   ],
   "source": [
    "df.info()"
   ]
  },
  {
   "cell_type": "raw",
   "id": "a1054056",
   "metadata": {},
   "source": [
    "# 1. Data contains symbols \n",
    "#   2. Data contains object datatype =  []\n",
    "#   3. data distribution \n",
    "#   4. Outliers \n",
    "#   5. Assumptions "
   ]
  },
  {
   "cell_type": "code",
   "execution_count": 32,
   "id": "6ed16b5c",
   "metadata": {},
   "outputs": [
    {
     "name": "stdout",
     "output_type": "stream",
     "text": [
      "<class 'pandas.core.frame.DataFrame'>\n",
      "RangeIndex: 205 entries, 0 to 204\n",
      "Data columns (total 26 columns):\n",
      " #   Column             Non-Null Count  Dtype  \n",
      "---  ------             --------------  -----  \n",
      " 0   symboling          205 non-null    int64  \n",
      " 1   normalized-losses  205 non-null    object \n",
      " 2   make               205 non-null    object \n",
      " 3   fuel-type          205 non-null    object \n",
      " 4   aspiration         205 non-null    object \n",
      " 5   num-of-doors       205 non-null    object \n",
      " 6   body-style         205 non-null    object \n",
      " 7   drive-wheels       205 non-null    object \n",
      " 8   engine-location    205 non-null    object \n",
      " 9   wheel-base         205 non-null    float64\n",
      " 10  length             205 non-null    float64\n",
      " 11  width              205 non-null    float64\n",
      " 12  height             205 non-null    float64\n",
      " 13  curb-weight        205 non-null    int64  \n",
      " 14  engine-type        205 non-null    object \n",
      " 15  num-of-cylinders   205 non-null    object \n",
      " 16  engine-size        205 non-null    int64  \n",
      " 17  fuel-system        205 non-null    object \n",
      " 18  bore               205 non-null    object \n",
      " 19  stroke             205 non-null    object \n",
      " 20  compression-ratio  205 non-null    float64\n",
      " 21  horsepower         205 non-null    object \n",
      " 22  peak-rpm           205 non-null    object \n",
      " 23  city-mpg           205 non-null    int64  \n",
      " 24  highway-mpg        205 non-null    int64  \n",
      " 25  price              205 non-null    object \n",
      "dtypes: float64(5), int64(5), object(16)\n",
      "memory usage: 41.8+ KB\n"
     ]
    }
   ],
   "source": [
    "## After replacing ? with null values \n",
    "df.info()"
   ]
  },
  {
   "cell_type": "markdown",
   "id": "cc8c9f68",
   "metadata": {},
   "source": [
    "###  3.1 symboling"
   ]
  },
  {
   "cell_type": "code",
   "execution_count": 33,
   "id": "896cad8c",
   "metadata": {},
   "outputs": [],
   "source": [
    "df['symboling']"
   ]
  },
  {
   "cell_type": "code",
   "execution_count": 34,
   "id": "b72cf231",
   "metadata": {},
   "outputs": [],
   "source": [
    "df['symboling'].unique()"
   ]
  },
  {
   "cell_type": "code",
   "execution_count": 35,
   "id": "c29264c4",
   "metadata": {},
   "outputs": [],
   "source": [
    "### Need confirmation discussion on this columns "
   ]
  },
  {
   "cell_type": "markdown",
   "id": "92328fe6",
   "metadata": {},
   "source": [
    "### 3.2 normalized-losses"
   ]
  },
  {
   "cell_type": "code",
   "execution_count": 36,
   "id": "24a847c1",
   "metadata": {},
   "outputs": [],
   "source": [
    "df['normalized-losses']"
   ]
  },
  {
   "cell_type": "code",
   "execution_count": 37,
   "id": "dae6cf20",
   "metadata": {},
   "outputs": [],
   "source": [
    "df['normalized-losses'].nunique()\n",
    "df['normalized-losses'].value_counts()\n"
   ]
  },
  {
   "cell_type": "code",
   "execution_count": 38,
   "id": "9b96ee84",
   "metadata": {},
   "outputs": [],
   "source": [
    "## this need to convert into int \n",
    "## Missing Values found >> Need to handle "
   ]
  },
  {
   "cell_type": "markdown",
   "id": "ef019e0a",
   "metadata": {},
   "source": [
    "### 3.3 make"
   ]
  },
  {
   "cell_type": "code",
   "execution_count": 39,
   "id": "49b42d7e",
   "metadata": {},
   "outputs": [],
   "source": [
    "df['make'].dtype"
   ]
  },
  {
   "cell_type": "code",
   "execution_count": 40,
   "id": "6c26ef0f",
   "metadata": {},
   "outputs": [],
   "source": [
    "df['make'].nunique()"
   ]
  },
  {
   "cell_type": "code",
   "execution_count": 41,
   "id": "a4350b56",
   "metadata": {},
   "outputs": [],
   "source": [
    "df['make'].unique() ### Nominal Categorical data found >> Solution :: One hot encoding "
   ]
  },
  {
   "cell_type": "markdown",
   "id": "5a4c1e5f",
   "metadata": {},
   "source": [
    "### 3.4 fuel-type"
   ]
  },
  {
   "cell_type": "code",
   "execution_count": 42,
   "id": "61a218ea",
   "metadata": {},
   "outputs": [],
   "source": [
    "df['fuel-type'].dtype"
   ]
  },
  {
   "cell_type": "code",
   "execution_count": 43,
   "id": "e3033880",
   "metadata": {},
   "outputs": [],
   "source": [
    "df['fuel-type'].nunique()"
   ]
  },
  {
   "cell_type": "code",
   "execution_count": 44,
   "id": "7143495e",
   "metadata": {},
   "outputs": [],
   "source": [
    "df['fuel-type'].value_counts()  ### Categorical [Nominal data]"
   ]
  },
  {
   "cell_type": "code",
   "execution_count": 45,
   "id": "b54a6687",
   "metadata": {},
   "outputs": [],
   "source": [
    "df['fuel-type'].value_counts().to_dict()"
   ]
  },
  {
   "cell_type": "markdown",
   "id": "77f8f128",
   "metadata": {},
   "source": [
    "### 3.5 aspiration"
   ]
  },
  {
   "cell_type": "code",
   "execution_count": 46,
   "id": "8585198e",
   "metadata": {},
   "outputs": [],
   "source": [
    "df.aspiration.dtype"
   ]
  },
  {
   "cell_type": "code",
   "execution_count": 47,
   "id": "15932ab6",
   "metadata": {},
   "outputs": [],
   "source": [
    "df.aspiration.nunique()"
   ]
  },
  {
   "cell_type": "code",
   "execution_count": 48,
   "id": "fbadfa70",
   "metadata": {},
   "outputs": [],
   "source": [
    "df.aspiration.value_counts()  ### Categorical [Nominal]"
   ]
  },
  {
   "cell_type": "code",
   "execution_count": 49,
   "id": "599aa32a",
   "metadata": {},
   "outputs": [],
   "source": [
    "df.aspiration.value_counts().to_dict()"
   ]
  },
  {
   "cell_type": "markdown",
   "id": "84b2b041",
   "metadata": {},
   "source": [
    "# Step 4: Feature Engineering "
   ]
  },
  {
   "cell_type": "markdown",
   "id": "d8e17c40",
   "metadata": {},
   "source": [
    "##### replace questions mark (?) by null values "
   ]
  },
  {
   "cell_type": "code",
   "execution_count": 50,
   "id": "58f3669a",
   "metadata": {},
   "outputs": [],
   "source": [
    "df = df.replace({\"?\":np.nan})"
   ]
  },
  {
   "cell_type": "code",
   "execution_count": 51,
   "id": "55c678a9",
   "metadata": {},
   "outputs": [],
   "source": [
    "df['normalized-losses'] = df['normalized-losses'].astype(float)"
   ]
  },
  {
   "cell_type": "code",
   "execution_count": 52,
   "id": "d15e4be6",
   "metadata": {},
   "outputs": [],
   "source": [
    "## Handling the missing values for  normalized-losses\n",
    "df['normalized-losses'].mean()\n",
    "df['normalized-losses'].median()\n",
    "df['normalized-losses'].mode()[0]\n"
   ]
  },
  {
   "cell_type": "code",
   "execution_count": 53,
   "id": "e7a9cee8",
   "metadata": {},
   "outputs": [],
   "source": [
    "sns.kdeplot(df['normalized-losses'])"
   ]
  },
  {
   "cell_type": "code",
   "execution_count": 54,
   "id": "d0ec62f6",
   "metadata": {},
   "outputs": [],
   "source": [
    "df['normalized-losses'].fillna(df['normalized-losses'].median(), inplace=True)"
   ]
  },
  {
   "cell_type": "code",
   "execution_count": 55,
   "id": "2109c6ca",
   "metadata": {},
   "outputs": [],
   "source": [
    "df['normalized-losses'].isna().sum()"
   ]
  },
  {
   "cell_type": "code",
   "execution_count": 56,
   "id": "8eb7c749",
   "metadata": {},
   "outputs": [],
   "source": [
    "df['normalized-losses'].dtype"
   ]
  },
  {
   "cell_type": "code",
   "execution_count": 57,
   "id": "22433381",
   "metadata": {},
   "outputs": [],
   "source": [
    "df['normalized-losses'] = df['normalized-losses'].astype(int)"
   ]
  },
  {
   "cell_type": "code",
   "execution_count": 58,
   "id": "e32e043c",
   "metadata": {},
   "outputs": [],
   "source": [
    "df['normalized-losses'].dtype"
   ]
  },
  {
   "cell_type": "markdown",
   "id": "addaf360",
   "metadata": {},
   "source": [
    "### 4.3 make "
   ]
  },
  {
   "cell_type": "code",
   "execution_count": 59,
   "id": "6afb18cd",
   "metadata": {},
   "outputs": [],
   "source": [
    "df = pd.get_dummies(df,columns=['make'])"
   ]
  },
  {
   "cell_type": "code",
   "execution_count": 60,
   "id": "a14b0858",
   "metadata": {},
   "outputs": [],
   "source": [
    "df.info()"
   ]
  },
  {
   "cell_type": "markdown",
   "id": "05b9c1cd",
   "metadata": {},
   "source": [
    "### 4.4 fuel-type"
   ]
  },
  {
   "cell_type": "code",
   "execution_count": 61,
   "id": "df78fc52",
   "metadata": {},
   "outputs": [],
   "source": [
    "df['fuel-type'].replace({'gas': 1, 'diesel': 0}, inplace=True)"
   ]
  },
  {
   "cell_type": "code",
   "execution_count": 62,
   "id": "2c3eb30a",
   "metadata": {},
   "outputs": [],
   "source": [
    "df['fuel-type'].dtype"
   ]
  },
  {
   "cell_type": "code",
   "execution_count": 63,
   "id": "00425c07",
   "metadata": {},
   "outputs": [],
   "source": [
    "df['fuel-type'].isna().sum()"
   ]
  },
  {
   "cell_type": "markdown",
   "id": "6a8643e3",
   "metadata": {},
   "source": [
    "### 4.5 aspiration"
   ]
  },
  {
   "cell_type": "code",
   "execution_count": 64,
   "id": "e4c6add6",
   "metadata": {},
   "outputs": [],
   "source": [
    "df.aspiration.replace({'std': 0, 'turbo': 1}, inplace=True)"
   ]
  },
  {
   "cell_type": "code",
   "execution_count": 65,
   "id": "190427f0",
   "metadata": {},
   "outputs": [],
   "source": [
    "df.aspiration.isna().sum()"
   ]
  },
  {
   "cell_type": "code",
   "execution_count": 66,
   "id": "6acb15c1",
   "metadata": {},
   "outputs": [],
   "source": [
    "df.aspiration.dtype"
   ]
  },
  {
   "cell_type": "code",
   "execution_count": 67,
   "id": "7894af10",
   "metadata": {},
   "outputs": [],
   "source": [
    "df.columns"
   ]
  },
  {
   "cell_type": "markdown",
   "id": "67dfb791",
   "metadata": {},
   "source": [
    "## 3.6 num-of-doors"
   ]
  },
  {
   "cell_type": "code",
   "execution_count": 68,
   "id": "46684a06",
   "metadata": {},
   "outputs": [],
   "source": [
    "df['num-of-doors'].dtype"
   ]
  },
  {
   "cell_type": "code",
   "execution_count": 69,
   "id": "7886fc50",
   "metadata": {},
   "outputs": [],
   "source": [
    "df['num-of-doors'].nunique()"
   ]
  },
  {
   "cell_type": "code",
   "execution_count": 70,
   "id": "88691e12",
   "metadata": {},
   "outputs": [],
   "source": [
    "df['num-of-doors'].value_counts() ### Categorical [Ordinal ]"
   ]
  },
  {
   "cell_type": "code",
   "execution_count": 71,
   "id": "80563815",
   "metadata": {},
   "outputs": [],
   "source": [
    "df['num-of-doors'].value_counts().to_dict()"
   ]
  },
  {
   "cell_type": "code",
   "execution_count": 72,
   "id": "873140fd",
   "metadata": {},
   "outputs": [],
   "source": [
    "df['num-of-doors'].replace({'four': 4, 'two': 2}, inplace=True)"
   ]
  },
  {
   "cell_type": "code",
   "execution_count": 73,
   "id": "7ba6f80b",
   "metadata": {},
   "outputs": [],
   "source": [
    "df['num-of-doors'].isna().sum()"
   ]
  },
  {
   "cell_type": "code",
   "execution_count": 74,
   "id": "a12fdf2c",
   "metadata": {},
   "outputs": [],
   "source": [
    "df['num-of-doors'].fillna(df['num-of-doors'].mode()[0], inplace=True)"
   ]
  },
  {
   "cell_type": "code",
   "execution_count": 75,
   "id": "4799642f",
   "metadata": {},
   "outputs": [],
   "source": [
    "df['num-of-doors'].isna().sum()"
   ]
  },
  {
   "cell_type": "code",
   "execution_count": 76,
   "id": "c4f59b9e",
   "metadata": {},
   "outputs": [],
   "source": [
    "df['num-of-doors'].dtype"
   ]
  },
  {
   "cell_type": "code",
   "execution_count": 77,
   "id": "d76921a2",
   "metadata": {},
   "outputs": [],
   "source": [
    "df['num-of-doors'] = df['num-of-doors'].astype(int)"
   ]
  },
  {
   "cell_type": "code",
   "execution_count": 78,
   "id": "84ba936f",
   "metadata": {},
   "outputs": [],
   "source": [
    "df['num-of-doors'].dtype"
   ]
  },
  {
   "cell_type": "markdown",
   "id": "226acb64",
   "metadata": {},
   "source": [
    "### 3.7 body-style"
   ]
  },
  {
   "cell_type": "code",
   "execution_count": 79,
   "id": "e1c19f04",
   "metadata": {},
   "outputs": [],
   "source": [
    "df['body-style'].dtype"
   ]
  },
  {
   "cell_type": "code",
   "execution_count": 80,
   "id": "40406427",
   "metadata": {},
   "outputs": [],
   "source": [
    "df['body-style'].value_counts() ### Categorical [Nominal Data] >> one hot "
   ]
  },
  {
   "cell_type": "code",
   "execution_count": 81,
   "id": "9e14bb7e",
   "metadata": {},
   "outputs": [],
   "source": [
    "df = pd.get_dummies(df, columns=['body-style'])"
   ]
  },
  {
   "cell_type": "code",
   "execution_count": 82,
   "id": "964a0ecf",
   "metadata": {},
   "outputs": [],
   "source": [
    "# df.info()"
   ]
  },
  {
   "cell_type": "markdown",
   "id": "8e39bc7a",
   "metadata": {},
   "source": [
    "### 3.8 drive-wheels"
   ]
  },
  {
   "cell_type": "code",
   "execution_count": 83,
   "id": "6161bb4e",
   "metadata": {},
   "outputs": [],
   "source": [
    "df['drive-wheels'].value_counts() ## >> Categorical nominal data  "
   ]
  },
  {
   "cell_type": "code",
   "execution_count": 84,
   "id": "aa0ec4f7",
   "metadata": {},
   "outputs": [],
   "source": [
    "df = pd.get_dummies(df, columns=['drive-wheels'])"
   ]
  },
  {
   "cell_type": "code",
   "execution_count": 85,
   "id": "93988fbf",
   "metadata": {},
   "outputs": [],
   "source": [
    "df.info()"
   ]
  },
  {
   "cell_type": "markdown",
   "id": "ab61283d",
   "metadata": {},
   "source": [
    "### 3.9 engine-location"
   ]
  },
  {
   "cell_type": "code",
   "execution_count": 86,
   "id": "3f105bf1",
   "metadata": {},
   "outputs": [],
   "source": [
    "df['engine-location'].value_counts().to_dict()"
   ]
  },
  {
   "cell_type": "code",
   "execution_count": 87,
   "id": "71a2b5ca",
   "metadata": {},
   "outputs": [],
   "source": [
    "df['engine-location'].replace({'front': 0, 'rear': 1}, inplace=True)"
   ]
  },
  {
   "cell_type": "code",
   "execution_count": 88,
   "id": "4aaf6fa4",
   "metadata": {},
   "outputs": [],
   "source": [
    "df['engine-location'].dtype"
   ]
  },
  {
   "cell_type": "code",
   "execution_count": 89,
   "id": "4cec86f8",
   "metadata": {},
   "outputs": [],
   "source": [
    "df['engine-location'].isna().sum()"
   ]
  },
  {
   "cell_type": "markdown",
   "id": "fe79a0fd",
   "metadata": {},
   "source": [
    "### 3.10  wheel-base"
   ]
  },
  {
   "cell_type": "code",
   "execution_count": 90,
   "id": "3b7e0817",
   "metadata": {},
   "outputs": [],
   "source": [
    "df['wheel-base']"
   ]
  },
  {
   "cell_type": "code",
   "execution_count": 91,
   "id": "a728f7aa",
   "metadata": {},
   "outputs": [],
   "source": [
    "sns.kdeplot(df['wheel-base'])"
   ]
  },
  {
   "cell_type": "code",
   "execution_count": 92,
   "id": "874381c6",
   "metadata": {},
   "outputs": [],
   "source": [
    "sns.boxplot(df['wheel-base'])"
   ]
  },
  {
   "cell_type": "code",
   "execution_count": 93,
   "id": "9a6ed42e",
   "metadata": {},
   "outputs": [],
   "source": [
    "sns.boxplot(x = df['wheel-base'])"
   ]
  },
  {
   "cell_type": "markdown",
   "id": "d7949dd3",
   "metadata": {},
   "source": [
    "### 3.11 engine-type"
   ]
  },
  {
   "cell_type": "code",
   "execution_count": 94,
   "id": "556bbc1f",
   "metadata": {},
   "outputs": [],
   "source": [
    "df['engine-type'].value_counts()"
   ]
  },
  {
   "cell_type": "code",
   "execution_count": 95,
   "id": "8e05e078",
   "metadata": {},
   "outputs": [],
   "source": [
    "df = pd.get_dummies(df,columns=['engine-type'])"
   ]
  },
  {
   "cell_type": "code",
   "execution_count": 96,
   "id": "32940bb9",
   "metadata": {},
   "outputs": [],
   "source": [
    "# df.info()"
   ]
  },
  {
   "cell_type": "markdown",
   "id": "3e292a76",
   "metadata": {},
   "source": [
    "### 3.12 num-of-cylinders"
   ]
  },
  {
   "cell_type": "code",
   "execution_count": 97,
   "id": "20d6201d",
   "metadata": {},
   "outputs": [],
   "source": [
    "df['num-of-cylinders'].value_counts() ### Categorcial Oridnal ## label encoding "
   ]
  },
  {
   "cell_type": "code",
   "execution_count": 98,
   "id": "16479e0b",
   "metadata": {},
   "outputs": [],
   "source": [
    "df['num-of-cylinders'].value_counts().to_dict()"
   ]
  },
  {
   "cell_type": "code",
   "execution_count": 99,
   "id": "8960570f",
   "metadata": {},
   "outputs": [],
   "source": [
    "df['num-of-cylinders'].replace({'four': 4,\n",
    " 'six': 6,\n",
    " 'five': 5,\n",
    " 'eight': 8,\n",
    " 'two': 2,\n",
    " 'three': 3,\n",
    " 'twelve': 12}, inplace=True)"
   ]
  },
  {
   "cell_type": "code",
   "execution_count": 100,
   "id": "364f289a",
   "metadata": {},
   "outputs": [],
   "source": [
    "df.info()"
   ]
  },
  {
   "cell_type": "markdown",
   "id": "047707a4",
   "metadata": {},
   "source": [
    "### 3.13 fuel-system"
   ]
  },
  {
   "cell_type": "code",
   "execution_count": 101,
   "id": "3dd5e883",
   "metadata": {},
   "outputs": [],
   "source": [
    "df['fuel-system'].value_counts()"
   ]
  },
  {
   "cell_type": "code",
   "execution_count": 102,
   "id": "73c1a4cd",
   "metadata": {},
   "outputs": [],
   "source": [
    "df = pd.get_dummies(df, columns = ['fuel-system'])"
   ]
  },
  {
   "cell_type": "markdown",
   "id": "c33e2a56",
   "metadata": {},
   "source": [
    "### 3.14 bore "
   ]
  },
  {
   "cell_type": "code",
   "execution_count": 103,
   "id": "7a4040c6",
   "metadata": {},
   "outputs": [],
   "source": [
    "# df['bore'].value_counts()"
   ]
  },
  {
   "cell_type": "code",
   "execution_count": 104,
   "id": "89ad4424",
   "metadata": {},
   "outputs": [],
   "source": [
    "df['bore'] = df['bore'].astype(float)"
   ]
  },
  {
   "cell_type": "code",
   "execution_count": 105,
   "id": "aedac1ac",
   "metadata": {},
   "outputs": [],
   "source": [
    "df['bore'].isna().sum()"
   ]
  },
  {
   "cell_type": "code",
   "execution_count": 106,
   "id": "4367e6b8",
   "metadata": {},
   "outputs": [],
   "source": [
    "sns.kdeplot(df['bore'])"
   ]
  },
  {
   "cell_type": "code",
   "execution_count": 107,
   "id": "fe97f64a",
   "metadata": {},
   "outputs": [],
   "source": [
    "df['bore'].fillna(df['bore'].median(), inplace=True)"
   ]
  },
  {
   "cell_type": "code",
   "execution_count": 108,
   "id": "b774d6cb",
   "metadata": {},
   "outputs": [],
   "source": [
    "# df.info()"
   ]
  },
  {
   "cell_type": "markdown",
   "id": "5b691ebb",
   "metadata": {},
   "source": [
    "### 3.15 stroke"
   ]
  },
  {
   "cell_type": "code",
   "execution_count": 109,
   "id": "9d56acee",
   "metadata": {},
   "outputs": [],
   "source": [
    "# df.stroke.value_counts()"
   ]
  },
  {
   "cell_type": "code",
   "execution_count": 110,
   "id": "dd41678b",
   "metadata": {},
   "outputs": [],
   "source": [
    "df.stroke.isna().sum()"
   ]
  },
  {
   "cell_type": "code",
   "execution_count": 111,
   "id": "80092f90",
   "metadata": {},
   "outputs": [],
   "source": [
    "df.stroke.fillna(df.stroke.median(), inplace=True)"
   ]
  },
  {
   "cell_type": "code",
   "execution_count": 112,
   "id": "a4b6f8e6",
   "metadata": {},
   "outputs": [],
   "source": [
    "df.stroke.isna().sum()"
   ]
  },
  {
   "cell_type": "code",
   "execution_count": 113,
   "id": "93a635a9",
   "metadata": {},
   "outputs": [],
   "source": [
    "df.stroke = df.stroke.astype(float)"
   ]
  },
  {
   "cell_type": "markdown",
   "id": "11ca67e5",
   "metadata": {},
   "source": [
    "### 3.16 horsepower"
   ]
  },
  {
   "cell_type": "code",
   "execution_count": 114,
   "id": "c633c951",
   "metadata": {},
   "outputs": [],
   "source": [
    "df['horsepower']"
   ]
  },
  {
   "cell_type": "code",
   "execution_count": 115,
   "id": "448c57b7",
   "metadata": {},
   "outputs": [],
   "source": [
    "df['horsepower'].isna().sum()"
   ]
  },
  {
   "cell_type": "code",
   "execution_count": 116,
   "id": "efbf8ac9",
   "metadata": {},
   "outputs": [],
   "source": [
    "df['horsepower'].median()"
   ]
  },
  {
   "cell_type": "code",
   "execution_count": 117,
   "id": "420df009",
   "metadata": {},
   "outputs": [],
   "source": [
    "df['horsepower'].fillna(df['horsepower'].median(), inplace=True)"
   ]
  },
  {
   "cell_type": "code",
   "execution_count": 118,
   "id": "8b49a103",
   "metadata": {},
   "outputs": [],
   "source": [
    "df['horsepower'] = df['horsepower'].astype(int)"
   ]
  },
  {
   "cell_type": "code",
   "execution_count": null,
   "id": "019c89d2",
   "metadata": {},
   "outputs": [],
   "source": []
  },
  {
   "cell_type": "code",
   "execution_count": null,
   "id": "a0ce66ff",
   "metadata": {},
   "outputs": [],
   "source": []
  },
  {
   "cell_type": "code",
   "execution_count": 119,
   "id": "b3be6e23",
   "metadata": {},
   "outputs": [],
   "source": [
    "sns.kdeplot(df['horsepower'])"
   ]
  },
  {
   "cell_type": "code",
   "execution_count": 120,
   "id": "112af69b",
   "metadata": {},
   "outputs": [],
   "source": [
    "df.info()"
   ]
  },
  {
   "cell_type": "markdown",
   "id": "f0eb9162",
   "metadata": {},
   "source": [
    "### 3.17 peak-rpm"
   ]
  },
  {
   "cell_type": "code",
   "execution_count": 121,
   "id": "453084f2",
   "metadata": {},
   "outputs": [],
   "source": [
    "df['peak-rpm'].isna().sum()"
   ]
  },
  {
   "cell_type": "code",
   "execution_count": 122,
   "id": "96c7cf01",
   "metadata": {},
   "outputs": [],
   "source": [
    "df['peak-rpm'].fillna(df['peak-rpm'].median(),inplace=True)"
   ]
  },
  {
   "cell_type": "code",
   "execution_count": 123,
   "id": "45c727d9",
   "metadata": {},
   "outputs": [],
   "source": [
    "df['peak-rpm'] = df['peak-rpm'].astype(int)"
   ]
  },
  {
   "cell_type": "code",
   "execution_count": 124,
   "id": "a04dc5ea",
   "metadata": {},
   "outputs": [],
   "source": [
    "df['peak-rpm'].isna().sum()"
   ]
  },
  {
   "cell_type": "code",
   "execution_count": 125,
   "id": "e3c47750",
   "metadata": {},
   "outputs": [],
   "source": [
    "df['peak-rpm'].dtype"
   ]
  },
  {
   "cell_type": "markdown",
   "id": "e00e3d30",
   "metadata": {},
   "source": [
    "### 3.18 price "
   ]
  },
  {
   "cell_type": "code",
   "execution_count": 126,
   "id": "05123a1b",
   "metadata": {},
   "outputs": [],
   "source": [
    "df['price']"
   ]
  },
  {
   "cell_type": "code",
   "execution_count": 127,
   "id": "db6f8c70",
   "metadata": {},
   "outputs": [],
   "source": [
    "df['price'].fillna(df['price'].median(), inplace=True)"
   ]
  },
  {
   "cell_type": "code",
   "execution_count": 128,
   "id": "0abb480c",
   "metadata": {},
   "outputs": [],
   "source": [
    "df['price'] = df['price'].astype(int)"
   ]
  },
  {
   "cell_type": "code",
   "execution_count": 129,
   "id": "a61edaaa",
   "metadata": {},
   "outputs": [],
   "source": [
    "df.info()"
   ]
  },
  {
   "cell_type": "raw",
   "id": "763495d3",
   "metadata": {},
   "source": [
    "### Assumptions \n",
    "1. Linearity >> R - value  Coefficient of correlation. \n",
    "2. indpedenece >> \n",
    "3. No Multicolinearity >> VIF"
   ]
  },
  {
   "cell_type": "code",
   "execution_count": 130,
   "id": "abac983f",
   "metadata": {},
   "outputs": [],
   "source": [
    "df.corr()"
   ]
  },
  {
   "cell_type": "code",
   "execution_count": 131,
   "id": "4570402e",
   "metadata": {},
   "outputs": [],
   "source": [
    "df.iloc[:,0:10].corr()"
   ]
  },
  {
   "cell_type": "code",
   "execution_count": 132,
   "id": "c3abce56",
   "metadata": {},
   "outputs": [],
   "source": [
    "df.columns\n",
    "col_list = ['symboling', 'normalized-losses', 'fuel-type', 'aspiration',\n",
    "       'num-of-doors', 'engine-location', 'wheel-base', 'length', 'width',\n",
    "       'height', 'curb-weight', 'num-of-cylinders', 'engine-size', 'bore','price']\n",
    "df.loc[:,col_list].corr().tail(1)"
   ]
  },
  {
   "cell_type": "markdown",
   "id": "e3b8e163",
   "metadata": {},
   "source": [
    "# Step 5. Feature Selection"
   ]
  },
  {
   "cell_type": "code",
   "execution_count": 133,
   "id": "a4e01b9e",
   "metadata": {},
   "outputs": [],
   "source": [
    "df.shape"
   ]
  },
  {
   "cell_type": "markdown",
   "id": "dd10ed2f",
   "metadata": {},
   "source": [
    "## Step 6. Model Training"
   ]
  },
  {
   "cell_type": "code",
   "execution_count": 134,
   "id": "2a76983d",
   "metadata": {},
   "outputs": [],
   "source": [
    "x = df.drop('price', axis=1)\n",
    "y = df['price']\n",
    "\n",
    "x_train,x_test, y_train, y_test = train_test_split(x,y, test_size=0.2, random_state=9)"
   ]
  },
  {
   "cell_type": "code",
   "execution_count": 135,
   "id": "9e3770a8",
   "metadata": {},
   "outputs": [],
   "source": [
    "x_train.shape,y_train.shape, x_test.shape, y_test.shape"
   ]
  },
  {
   "cell_type": "code",
   "execution_count": 136,
   "id": "9a8188f9",
   "metadata": {},
   "outputs": [],
   "source": [
    "model = LinearRegression()\n",
    "model.fit(x_train,y_train)"
   ]
  },
  {
   "cell_type": "markdown",
   "id": "dd4c4296",
   "metadata": {},
   "source": [
    "# step 7. Model Evaluation"
   ]
  },
  {
   "cell_type": "code",
   "execution_count": 137,
   "id": "3929d8b3",
   "metadata": {},
   "outputs": [],
   "source": [
    "## Testing data model Evalaution \n",
    "\n",
    "y_pred = model.predict(x_test)\n",
    "\n",
    "mse = mean_squared_error(y_test,y_pred)\n",
    "print(f\"MSE = {mse}\")\n",
    "print(f\"RMSE = {np.sqrt(mse)}\")\n",
    "\n",
    "mae = mean_absolute_error(y_test,y_pred)\n",
    "print(f\"MAE = {mae}\")\n",
    "\n",
    "r2 = r2_score(y_test,y_pred)\n",
    "print(f\"R-Squared Value = {r2}\")\n",
    "\n"
   ]
  },
  {
   "cell_type": "code",
   "execution_count": 138,
   "id": "76297fab",
   "metadata": {},
   "outputs": [],
   "source": [
    "## Training data model Evalaution \n",
    "\n",
    "y_pred = model.predict(x_train)\n",
    "\n",
    "mse = mean_squared_error(y_train,y_pred)\n",
    "print(f\"MSE = {mse}\")\n",
    "print(f\"RMSE = {np.sqrt(mse)}\")\n",
    "\n",
    "mae = mean_absolute_error(y_train,y_pred)\n",
    "print(f\"MAE = {mae}\")\n",
    "\n",
    "r2 = r2_score(y_train,y_pred)\n",
    "print(f\"R-Squared Value = {r2}\")\n",
    "\n"
   ]
  },
  {
   "cell_type": "code",
   "execution_count": 139,
   "id": "1757f437",
   "metadata": {},
   "outputs": [],
   "source": [
    "## Bias and variance Trade off \n",
    "\n",
    "Bias >> low Bias \n",
    "Variance >> low variance \n",
    "\n",
    "Generelaised / best model"
   ]
  },
  {
   "cell_type": "code",
   "execution_count": null,
   "id": "65789769",
   "metadata": {},
   "outputs": [],
   "source": [
    "model"
   ]
  },
  {
   "cell_type": "code",
   "execution_count": null,
   "id": "d81e98af",
   "metadata": {},
   "outputs": [],
   "source": [
    "### Save this model to pickle file"
   ]
  },
  {
   "cell_type": "code",
   "execution_count": null,
   "id": "78daaf17",
   "metadata": {},
   "outputs": [],
   "source": [
    "with open('linear_model.pkl','wb') as file: \n",
    "    pickle.dump(model,file)"
   ]
  },
  {
   "cell_type": "markdown",
   "id": "587e0200",
   "metadata": {},
   "source": [
    "### User Defined Function "
   ]
  },
  {
   "cell_type": "code",
   "execution_count": null,
   "id": "f776aa62",
   "metadata": {},
   "outputs": [],
   "source": [
    "'symboling', 'normalized-losses', 'make', 'fuel-type', 'aspiration',\n",
    "'num-of-doors', 'body-style', 'drive-wheels', 'engine-location',\n",
    "'wheel-base', 'length', 'width', 'height', 'curb-weight', 'engine-type',\n",
    "'num-of-cylinders', 'engine-size', 'fuel-system', 'bore', 'stroke',\n",
    "'compression-ratio', 'horsepower', 'peak-rpm', 'city-mpg',\n",
    "'highway-mpg'\n",
    "\n",
    "\n",
    "data = [[]]\n",
    "\n",
    "price = model.predict(data)\n",
    "print(price)"
   ]
  }
 ],
 "metadata": {
  "kernelspec": {
   "display_name": "Python 3 (ipykernel)",
   "language": "python",
   "name": "python3"
  },
  "language_info": {
   "codemirror_mode": {
    "name": "ipython",
    "version": 3
   },
   "file_extension": ".py",
   "mimetype": "text/x-python",
   "name": "python",
   "nbconvert_exporter": "python",
   "pygments_lexer": "ipython3",
   "version": "3.10.9"
  }
 },
 "nbformat": 4,
 "nbformat_minor": 5
}
